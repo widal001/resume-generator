{
 "cells": [
  {
   "cell_type": "code",
   "execution_count": 45,
   "metadata": {},
   "outputs": [],
   "source": [
    "from simple_salesforce import Salesforce\n",
    "import configparser\n",
    "import pandas as pd\n",
    "from collections import defaultdict"
   ]
  },
  {
   "cell_type": "markdown",
   "metadata": {},
   "source": [
    "### SOQL Queries\n",
    "1. **Right Outer Join:** SELECT Name, Engagement\\__r.Department\\__c FROM Experience\\__c\\__\n",
    "\n",
    "1. **Left Outer Join:** SELECT Name, (SELECT Name FROM Experiences\\__r) FROM Engagement\\__c\n",
    "\n",
    "1. **Left Inner Join:** SELECT Name FROM Engagement\\__c WHERE Id IN (SELECT Engagement\\__c FROM\tExperience\\__c\\__)\n",
    "\n",
    "1. **Right Inner Join:** SELECT Name, Engagement\\__r.Name, FROM Experience\\__c WHERE Engagement\\__r.Department\\__c = ‘Sales’"
   ]
  },
  {
   "cell_type": "code",
   "execution_count": 62,
   "metadata": {},
   "outputs": [],
   "source": [
    "config = configparser.ConfigParser()\n",
    "config.read('salesforce.ini')\n",
    "sf = Salesforce(username=config['CREDENTIALS']['username'],\n",
    "                password=config['CREDENTIALS']['password'], \n",
    "                security_token=config['CREDENTIALS']['token'],\n",
    "                client_id='Jupyter')"
   ]
  },
  {
   "cell_type": "code",
   "execution_count": 52,
   "metadata": {},
   "outputs": [],
   "source": [
    "#queries the tags associated with a specific position\n",
    "position_reqs = sf.query(\"\"\"SELECT Engagement__r.Host__c, Engagement__r.Title__c, \n",
    "                            Tag_Name__c, Tag_Type__c, Tag__c, Importance__c \n",
    "                            FROM Tag_Engagement__c WHERE Engagement__c = 'a0o1J00000EV9DB'\"\"\")"
   ]
  },
  {
   "cell_type": "code",
   "execution_count": 98,
   "metadata": {},
   "outputs": [],
   "source": [
    "#flattens the query result into a list of dictionaries\n",
    "requirements = [{\"Host\": x[\"Engagement__r\"][\"Host__c\"],\n",
    "                 \"Title\": x[\"Engagement__r\"][\"Title__c\"],\n",
    "                 \"Tag\": x[\"Tag_Name__c\"],\n",
    "                 \"Tag_Type\": x[\"Tag_Type__c\"],\n",
    "                 \"Importance\": x[\"Importance__c\"],\n",
    "                 \"Tag_Id\": x[\"Tag__c\"]} for x in position_reqs[\"records\"]]\n",
    "\n",
    "#isolates the tag ids from the list of requirements and prepares them\n",
    "#for substitution in candidate query\n",
    "parameter = (\"','\".join([x[\"Tag_Id\"] for x in requirements]),)"
   ]
  },
  {
   "cell_type": "code",
   "execution_count": 75,
   "metadata": {},
   "outputs": [],
   "source": [
    "candidates = sf.query(\"\"\"SELECT Id, (SELECT Tag__c, Tag_Name__c, Tag_Type__c \n",
    "                         FROM Tag_Items__r WHERE Tag__c IN ('%s'))\n",
    "                         FROM Contact WHERE Id IN \n",
    "                         (SELECT Contact__c FROM Experience__c \n",
    "                         WHERE Engagement__c = 'a0o1J00000EIR34'\n",
    "                         AND Round__c = 'Round 2')\"\"\" % parameter)"
   ]
  },
  {
   "cell_type": "markdown",
   "metadata": {},
   "source": [
    "## Recommendation Algorithm 1:\n",
    "1. Select all of the matching tags from the candidates eligible for the role\n",
    "1. Sort the list of candidates by the number of matching tags\n",
    "1. Select the top $n$ candidates from the sorted list"
   ]
  },
  {
   "cell_type": "code",
   "execution_count": 110,
   "metadata": {},
   "outputs": [
    {
     "data": {
      "text/plain": [
       "[{'Count': 27, 'Id': '0031J00001GUqKDQA1'},\n",
       " {'Count': 26, 'Id': '003o0000016GIIZAA4'},\n",
       " {'Count': 25, 'Id': '0031J00001IwZ0PQAV'},\n",
       " {'Count': 24, 'Id': '003o0000013BwmbAAC'},\n",
       " {'Count': 23, 'Id': '0031J00001HdWEaQAN'},\n",
       " {'Count': 22, 'Id': '0031J00001HdiPAQAZ'},\n",
       " {'Count': 22, 'Id': '003o000000oiwDRAAY'},\n",
       " {'Count': 20, 'Id': '0031J00001IBFFRQA5'},\n",
       " {'Count': 19, 'Id': '0031J00001HfyOgQAJ'},\n",
       " {'Count': 19, 'Id': '0031J00001LmxoFQAR'},\n",
       " {'Count': 19, 'Id': '0031J00001HgRu2QAF'},\n",
       " {'Count': 18, 'Id': '0031J00001IDIChQAP'},\n",
       " {'Count': 18, 'Id': '003o000000qsD4xAAE'},\n",
       " {'Count': 18, 'Id': '0031J00001LmkuHQAR'},\n",
       " {'Count': 18, 'Id': '0031J00001LmvJRQAZ'}]"
      ]
     },
     "execution_count": 110,
     "metadata": {},
     "output_type": "execute_result"
    }
   ],
   "source": [
    "#iterates through list of contact records and selects the count of tag item records\n",
    "rankings1 = [{\"Id\": x[\"Id\"], \"Count\": x[\"Tag_Items__r\"][\"totalSize\"]} \n",
    "            for x in candidates[\"records\"] if x[\"Tag_Items__r\"] is not None]\n",
    "\n",
    "#sorts list of contacts by number of tag item records and selects top 15\n",
    "top_candidates = sorted(rankings1, key= lambda x: x[\"Count\"], reverse=True)[:15]\n",
    "top_candidates"
   ]
  },
  {
   "cell_type": "markdown",
   "metadata": {},
   "source": [
    "## Recommendation Algorithm 2:\n",
    "1. Select all of the matching tags from the candidates eligible for the role\n",
    "1. Count the list of matching tags required and preferred separately\n",
    "1. Sort the list of candidates by number of required tags then by number of preferred tags\n",
    "1. Select the top $n$ candidates from the sorted list"
   ]
  },
  {
   "cell_type": "code",
   "execution_count": 92,
   "metadata": {},
   "outputs": [],
   "source": [
    "#flattens nested dicts into a list of dicts \n",
    "rankings2_raw = [{\"Id\": parent[\"Id\"], \n",
    "                  \"Type\": child[\"Tag_Type__c\"], \n",
    "                  \"Tag_Id\": child[\"Tag__c\"], \n",
    "                  \"Tag\": child[\"Tag_Name__c\"]} \n",
    "                 for parent in candidates[\"records\"] if parent[\"Tag_Items__r\"] is not None\n",
    "                 for child in parent[\"Tag_Items__r\"][\"records\"]]"
   ]
  },
  {
   "cell_type": "code",
   "execution_count": 109,
   "metadata": {},
   "outputs": [],
   "source": [
    "#converts the requirements and the candidate qualifications to dataframes\n",
    "df_rankings = pd.DataFrame(rankings2_raw)\n",
    "df_requirements = pd.DataFrame(requirements)\n",
    "\n",
    "#labels each tag with its corresponding importance from the list of requirements\n",
    "df_join = df_rankings.merge(df_requirements[[\"Tag_Id\", \"Importance\"]], \n",
    "                  how=\"left\", on=\"Tag_Id\")"
   ]
  },
  {
   "cell_type": "code",
   "execution_count": 111,
   "metadata": {},
   "outputs": [
    {
     "data": {
      "text/html": [
       "<div>\n",
       "<style>\n",
       "    .dataframe thead tr:only-child th {\n",
       "        text-align: right;\n",
       "    }\n",
       "\n",
       "    .dataframe thead th {\n",
       "        text-align: left;\n",
       "    }\n",
       "\n",
       "    .dataframe tbody tr th {\n",
       "        vertical-align: top;\n",
       "    }\n",
       "</style>\n",
       "<table border=\"1\" class=\"dataframe\">\n",
       "  <thead>\n",
       "    <tr style=\"text-align: right;\">\n",
       "      <th>Importance</th>\n",
       "      <th>Id</th>\n",
       "      <th>Preferred</th>\n",
       "      <th>Required</th>\n",
       "    </tr>\n",
       "  </thead>\n",
       "  <tbody>\n",
       "    <tr>\n",
       "      <th>0</th>\n",
       "      <td>0031J00001GUqKDQA1</td>\n",
       "      <td>15.0</td>\n",
       "      <td>9.0</td>\n",
       "    </tr>\n",
       "  </tbody>\n",
       "</table>\n",
       "</div>"
      ],
      "text/plain": [
       "Importance                  Id  Preferred  Required\n",
       "0           0031J00001GUqKDQA1       15.0       9.0"
      ]
     },
     "execution_count": 111,
     "metadata": {},
     "output_type": "execute_result"
    }
   ],
   "source": [
    "\n",
    "df_top = (df_join.groupby([\"Id\", \"Importance\"])[\"Tag_Id\"].count().reset_index()\n",
    "                 .pivot(index=\"Id\", columns=\"Importance\", values=\"Tag_Id\").reset_index()\n",
    "                 .sort_values(by=[\"Required\", \"Preferred\"], ascending=False, na_position=\"last\"))\n",
    "df_top[df_top[\"Id\"] == '0031J00001GUqKDQA1']"
   ]
  },
  {
   "cell_type": "code",
   "execution_count": null,
   "metadata": {
    "collapsed": true
   },
   "outputs": [],
   "source": []
  }
 ],
 "metadata": {
  "kernelspec": {
   "display_name": "Python 3",
   "language": "python",
   "name": "python3"
  },
  "language_info": {
   "codemirror_mode": {
    "name": "ipython",
    "version": 3
   },
   "file_extension": ".py",
   "mimetype": "text/x-python",
   "name": "python",
   "nbconvert_exporter": "python",
   "pygments_lexer": "ipython3",
   "version": "3.6.3"
  }
 },
 "nbformat": 4,
 "nbformat_minor": 2
}
