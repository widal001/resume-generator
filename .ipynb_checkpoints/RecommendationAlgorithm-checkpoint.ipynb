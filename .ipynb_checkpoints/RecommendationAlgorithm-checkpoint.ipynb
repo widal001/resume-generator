{
 "cells": [
  {
   "cell_type": "code",
   "execution_count": 2,
   "metadata": {
    "collapsed": true
   },
   "outputs": [],
   "source": [
    "from simple_salesforce import Salesforce\n",
    "import configparser\n",
    "import pandas as pd\n",
    "from collections import defaultdict"
   ]
  },
  {
   "cell_type": "markdown",
   "metadata": {},
   "source": [
    "### SOQL Queries\n",
    "1. **Right Outer Join:** SELECT Name, Engagement\\__r.Department\\__c FROM Experience\\__c\n",
    "\n",
    "1. **Left Outer Join:** SELECT Name, (SELECT Name FROM Tag_Experiences\\__r) FROM Engagement\\__c\n",
    "\n",
    "1. **Left Inner Join:** SELECT Name FROM Engagement\\__c WHERE Id IN (SELECT Engagement\\__c FROM\tExperience\\__c)\n",
    "\n",
    "1. **Right Inner Join:** SELECT Name, Engagement\\__r.Name, FROM Experience\\__c WHERE Engagement\\__r.Dept\\__c = ‘Sales’\n",
    "\n",
    "1. **Full Join:** SELECT Name, Engagement\\__r.Name, (SELECT Name, Tag\\__c FROM Tag_Experiences\\__r) FROM Experience\\__c"
   ]
  },
  {
   "cell_type": "markdown",
   "metadata": {},
   "source": [
    "## Munging Functions"
   ]
  },
  {
   "cell_type": "code",
   "execution_count": 3,
   "metadata": {
    "collapsed": true
   },
   "outputs": [],
   "source": [
    "def get_fields(record, query, child=0, parent=0):\n",
    "    entry = {}\n",
    "    \n",
    "    for field in query[\"record_fields\"]:\n",
    "        entry[field] = record[field]\n",
    "        \n",
    "    if child:\n",
    "        for field in query[\"child_fields\"]:\n",
    "            entry[field] = child[field]\n",
    "            \n",
    "    if parent:\n",
    "        for field in query[\"parent_fields\"]:\n",
    "            entry[field] = parent[field]\n",
    "            \n",
    "    return entry"
   ]
  },
  {
   "cell_type": "code",
   "execution_count": 15,
   "metadata": {
    "collapsed": true
   },
   "outputs": [],
   "source": [
    "#function that accepts the result of a left outer join query with nested child dicts \n",
    "#and returns a list with a dict for each child record that also contains fields\n",
    "#from the associated primary record\n",
    "def flatten_left(result, query):\n",
    "    records = [get_fields(record, query, child=child)\n",
    "               for record in result[\"records\"] if record[query[\"child_object\"]] is not None \n",
    "               for child in record[query[\"child_object\"]][\"records\"]]\n",
    "    return records"
   ]
  },
  {
   "cell_type": "code",
   "execution_count": 54,
   "metadata": {},
   "outputs": [],
   "source": [
    "#function that accepts the result of a right outer or inner join query with nested parent \n",
    "#dicts and returns a list with a dict for each primary record that also contains fields\n",
    "#from the associated parent record\n",
    "def flatten_right(result, query):\n",
    "    records = [get_fields(record, query, parent=record[query[\"parent_object\"]]) \n",
    "               for record in result[\"records\"]]\n",
    "    return records"
   ]
  },
  {
   "cell_type": "code",
   "execution_count": 14,
   "metadata": {
    "collapsed": true
   },
   "outputs": [],
   "source": [
    "#function that accepts the result of a full join with nested parent and child dicts\n",
    "#and returns a list with a dict for each child record that also contains fields from\n",
    "#the associated primary and parent records\n",
    "def flatten_full(result, query):\n",
    "    records = [get_fields(record, query, child=child, parent=record[query[\"parent_object\"]])\n",
    "               for record in result[\"records\"] if record[query[\"child_object\"]] is not None \n",
    "               for child in record[query[\"child_object\"]][\"records\"]]\n",
    "    return records"
   ]
  },
  {
   "cell_type": "code",
   "execution_count": 17,
   "metadata": {
    "collapsed": true
   },
   "outputs": [],
   "source": [
    "#function that accepts a non-nested result and returns a list with a dict for each record\n",
    "def flatten_general(result, query):\n",
    "    records = [get_fields(record, query) for record in result[\"records\"]]\n",
    "    return records"
   ]
  },
  {
   "cell_type": "markdown",
   "metadata": {},
   "source": [
    "## Data Retrieval"
   ]
  },
  {
   "cell_type": "code",
   "execution_count": 18,
   "metadata": {},
   "outputs": [],
   "source": [
    "config = configparser.ConfigParser()\n",
    "config.read('../Salesforce/salesforce.ini')\n",
    "sf = Salesforce(username=config['CREDENTIALS']['username'],\n",
    "                password=config['CREDENTIALS']['password'], \n",
    "                security_token=config['CREDENTIALS']['token'],\n",
    "                client_id='Jupyter')"
   ]
  },
  {
   "cell_type": "code",
   "execution_count": 19,
   "metadata": {
    "collapsed": true
   },
   "outputs": [],
   "source": [
    "#queries the tags associated with a specific position\n",
    "position_reqs = sf.query(\"\"\"SELECT Engagement__r.Host__c, Engagement__r.Title__c, \n",
    "                            Tag_Name__c, Tag_Type__c, Tag__c, Importance__c \n",
    "                            FROM Tag_Engagement__c WHERE Engagement__c = 'a0o1J00000EV9DB'\"\"\")"
   ]
  },
  {
   "cell_type": "code",
   "execution_count": 55,
   "metadata": {},
   "outputs": [],
   "source": [
    "query_map2 = {\"parent_object\": \"Engagement__r\",\n",
    "          \"parent_fields\": [\"Host__c\", \"Title__c\"],\n",
    "          \"record_object\": \"Tag_Engagement__c\",\n",
    "          \"record_fields\": [\"Tag_Name__c\", \"Tag_Type__c\", \"Tag__c\", \"Importance__c\"]}\n",
    "requirements = flatten_right(position_reqs, query2)\n",
    "tag_parameter = \"','\".join([x[\"Tag__c\"] for x in requirements])"
   ]
  },
  {
   "cell_type": "code",
   "execution_count": 48,
   "metadata": {
    "collapsed": true
   },
   "outputs": [],
   "source": [
    "candidates = sf.query(\"\"\"SELECT Id, (SELECT Tag__c, Tag_Name__c, Tag_Type__c \n",
    "                         FROM Tag_Items__r WHERE Tag__c IN ('%s'))\n",
    "                         FROM Contact WHERE Id IN \n",
    "                         (SELECT Contact__c FROM Experience__c \n",
    "                         WHERE Engagement__c = 'a0o1J00000EIR34'\n",
    "                         AND Round__c = 'Round 2')\"\"\" % (tag_parameter,))"
   ]
  },
  {
   "cell_type": "markdown",
   "metadata": {},
   "source": [
    "## Recommendation Algorithm 1:\n",
    "1. Select all of the matching tags from the candidates eligible for the role\n",
    "1. Sort the list of candidates by the number of matching tags\n",
    "1. Select the top $n$ candidates from the sorted list"
   ]
  },
  {
   "cell_type": "code",
   "execution_count": 22,
   "metadata": {
    "collapsed": true
   },
   "outputs": [],
   "source": [
    "#iterates through list of contact records and selects the count of tag item records\n",
    "rankings1 = [{\"Id\": x[\"Id\"], \"Count\": x[\"Tag_Items__r\"][\"totalSize\"]} \n",
    "            for x in candidates[\"records\"] if x[\"Tag_Items__r\"] is not None]\n",
    "\n",
    "#sorts list of contacts by number of tag item records and selects top 15\n",
    "top_candidates = sorted(rankings1, key= lambda x: x[\"Count\"], reverse=True)[:15]"
   ]
  },
  {
   "cell_type": "markdown",
   "metadata": {},
   "source": [
    "## Recommendation Algorithm 2:\n",
    "1. Select all of the matching tags from the candidates eligible for the role\n",
    "1. Count the list of matching tags required and preferred separately\n",
    "1. Sort the list of candidates by number of required tags then by number of preferred tags\n",
    "1. Select the top $n$ candidates from the sorted list"
   ]
  },
  {
   "cell_type": "code",
   "execution_count": 24,
   "metadata": {
    "collapsed": true
   },
   "outputs": [],
   "source": [
    "query_map = {\"record_object\": \"Experience__c\", \n",
    "             \"child_object\": \"Tag_Items__r\",\n",
    "             \"record_fields\": [\"Id\"],\n",
    "             \"child_fields\": [\"Tag_Type__c\", \"Tag__c\", \"Tag_Name__c\"]}\n",
    "rankings2_raw = flatten_left_outer(candidates, query_map)"
   ]
  },
  {
   "cell_type": "code",
   "execution_count": 25,
   "metadata": {},
   "outputs": [
    {
     "data": {
      "text/html": [
       "<div>\n",
       "<style>\n",
       "    .dataframe thead tr:only-child th {\n",
       "        text-align: right;\n",
       "    }\n",
       "\n",
       "    .dataframe thead th {\n",
       "        text-align: left;\n",
       "    }\n",
       "\n",
       "    .dataframe tbody tr th {\n",
       "        vertical-align: top;\n",
       "    }\n",
       "</style>\n",
       "<table border=\"1\" class=\"dataframe\">\n",
       "  <thead>\n",
       "    <tr style=\"text-align: right;\">\n",
       "      <th></th>\n",
       "      <th>Id</th>\n",
       "      <th>Tag_Name__c</th>\n",
       "      <th>Tag_Type__c</th>\n",
       "      <th>Tag__c</th>\n",
       "      <th>Importance__c</th>\n",
       "    </tr>\n",
       "  </thead>\n",
       "  <tbody>\n",
       "    <tr>\n",
       "      <th>0</th>\n",
       "      <td>003o000000bK3q0AAC</td>\n",
       "      <td>Training</td>\n",
       "      <td>Responsibility</td>\n",
       "      <td>a0n1J00000gK1aGQAS</td>\n",
       "      <td>None</td>\n",
       "    </tr>\n",
       "    <tr>\n",
       "      <th>1</th>\n",
       "      <td>003o000000bK3q0AAC</td>\n",
       "      <td>Community Engagement</td>\n",
       "      <td>Responsibility</td>\n",
       "      <td>a0n1J00000gK1YhQAK</td>\n",
       "      <td>None</td>\n",
       "    </tr>\n",
       "    <tr>\n",
       "      <th>2</th>\n",
       "      <td>003o000000bK3q0AAC</td>\n",
       "      <td>Poverty</td>\n",
       "      <td>Focus Area</td>\n",
       "      <td>a0n1J00000hSN2GQAW</td>\n",
       "      <td>Preferred</td>\n",
       "    </tr>\n",
       "    <tr>\n",
       "      <th>3</th>\n",
       "      <td>003o000000bK3q0AAC</td>\n",
       "      <td>Programs and Services</td>\n",
       "      <td>Content</td>\n",
       "      <td>a0no000000dpHVMAA2</td>\n",
       "      <td>Required</td>\n",
       "    </tr>\n",
       "    <tr>\n",
       "      <th>4</th>\n",
       "      <td>003o000000bK3q0AAC</td>\n",
       "      <td>Strategy</td>\n",
       "      <td>Content</td>\n",
       "      <td>a0n1J00000hSN3ZQAW</td>\n",
       "      <td>Required</td>\n",
       "    </tr>\n",
       "  </tbody>\n",
       "</table>\n",
       "</div>"
      ],
      "text/plain": [
       "                   Id            Tag_Name__c     Tag_Type__c  \\\n",
       "0  003o000000bK3q0AAC               Training  Responsibility   \n",
       "1  003o000000bK3q0AAC   Community Engagement  Responsibility   \n",
       "2  003o000000bK3q0AAC                Poverty      Focus Area   \n",
       "3  003o000000bK3q0AAC  Programs and Services         Content   \n",
       "4  003o000000bK3q0AAC               Strategy         Content   \n",
       "\n",
       "               Tag__c Importance__c  \n",
       "0  a0n1J00000gK1aGQAS          None  \n",
       "1  a0n1J00000gK1YhQAK          None  \n",
       "2  a0n1J00000hSN2GQAW     Preferred  \n",
       "3  a0no000000dpHVMAA2      Required  \n",
       "4  a0n1J00000hSN3ZQAW      Required  "
      ]
     },
     "execution_count": 25,
     "metadata": {},
     "output_type": "execute_result"
    }
   ],
   "source": [
    "#converts the requirements and the candidate qualifications to dataframes\n",
    "df_rankings = pd.DataFrame(rankings2_raw)\n",
    "df_requirements = pd.DataFrame(requirements)\n",
    "\n",
    "#labels each tag with its corresponding importance from the list of requirements\n",
    "df_join = df_rankings.merge(df_requirements[[\"Tag__c\", \"Importance__c\"]], \n",
    "                  how=\"left\", on=\"Tag__c\")\n",
    "df_join.head()"
   ]
  },
  {
   "cell_type": "code",
   "execution_count": 26,
   "metadata": {},
   "outputs": [
    {
     "data": {
      "text/html": [
       "<div>\n",
       "<style>\n",
       "    .dataframe thead tr:only-child th {\n",
       "        text-align: right;\n",
       "    }\n",
       "\n",
       "    .dataframe thead th {\n",
       "        text-align: left;\n",
       "    }\n",
       "\n",
       "    .dataframe tbody tr th {\n",
       "        vertical-align: top;\n",
       "    }\n",
       "</style>\n",
       "<table border=\"1\" class=\"dataframe\">\n",
       "  <thead>\n",
       "    <tr style=\"text-align: right;\">\n",
       "      <th>Importance__c</th>\n",
       "      <th>Id</th>\n",
       "      <th>Preferred</th>\n",
       "      <th>Required</th>\n",
       "    </tr>\n",
       "  </thead>\n",
       "  <tbody>\n",
       "    <tr>\n",
       "      <th>0</th>\n",
       "      <td>0031J00001GUqKDQA1</td>\n",
       "      <td>15.0</td>\n",
       "      <td>9.0</td>\n",
       "    </tr>\n",
       "    <tr>\n",
       "      <th>68</th>\n",
       "      <td>003o0000013BwmbAAC</td>\n",
       "      <td>13.0</td>\n",
       "      <td>9.0</td>\n",
       "    </tr>\n",
       "    <tr>\n",
       "      <th>69</th>\n",
       "      <td>003o0000016GIIZAA4</td>\n",
       "      <td>13.0</td>\n",
       "      <td>9.0</td>\n",
       "    </tr>\n",
       "    <tr>\n",
       "      <th>7</th>\n",
       "      <td>0031J00001HdiPAQAZ</td>\n",
       "      <td>11.0</td>\n",
       "      <td>9.0</td>\n",
       "    </tr>\n",
       "    <tr>\n",
       "      <th>1</th>\n",
       "      <td>0031J00001GVyt3QAD</td>\n",
       "      <td>10.0</td>\n",
       "      <td>9.0</td>\n",
       "    </tr>\n",
       "  </tbody>\n",
       "</table>\n",
       "</div>"
      ],
      "text/plain": [
       "Importance__c                  Id  Preferred  Required\n",
       "0              0031J00001GUqKDQA1       15.0       9.0\n",
       "68             003o0000013BwmbAAC       13.0       9.0\n",
       "69             003o0000016GIIZAA4       13.0       9.0\n",
       "7              0031J00001HdiPAQAZ       11.0       9.0\n",
       "1              0031J00001GVyt3QAD       10.0       9.0"
      ]
     },
     "execution_count": 26,
     "metadata": {},
     "output_type": "execute_result"
    }
   ],
   "source": [
    "df_top = (df_join.groupby([\"Id\", \"Importance__c\"])[\"Tag__c\"].count().reset_index()\n",
    "                 .pivot(index=\"Id\", columns=\"Importance__c\", values=\"Tag__c\").reset_index()\n",
    "                 .sort_values(by=[\"Required\",\"Preferred\"], ascending=False, na_position=\"last\"))\n",
    "df_top.head()"
   ]
  },
  {
   "cell_type": "markdown",
   "metadata": {
    "collapsed": true
   },
   "source": [
    "## Selecting Experiences"
   ]
  },
  {
   "cell_type": "code",
   "execution_count": 49,
   "metadata": {},
   "outputs": [
    {
     "data": {
      "text/plain": [
       "\"0031J00001GUqKDQA1', '003o0000013BwmbAAC', '003o0000016GIIZAA4', '0031J00001HdiPAQAZ', '0031J00001GVyt3QAD', '003o000000oiwDRAAY', '0031J00001LmvJRQAZ', '003o000001Bz7JaAAJ', '0031J00001JXRRqQAP', '0031J00001IwZ0PQAV', '0031J00001IBFFRQA5', '0031J00001HfyOgQAJ', '0031J00001HgRu2QAF\""
      ]
     },
     "execution_count": 49,
     "metadata": {},
     "output_type": "execute_result"
    }
   ],
   "source": [
    "top_parameter = \"', '\".join(df_top.loc[:15][\"Id\"])\n",
    "top_parameter"
   ]
  },
  {
   "cell_type": "code",
   "execution_count": 47,
   "metadata": {},
   "outputs": [
    {
     "data": {
      "text/plain": [
       "\"a0n1J00000gK1a4QAC','a0n1J00000gK1aGQAS','a0n1J00000gK1YhQAK','a0n1J00000gK1YwQAK','a0n1J00000hSN2jQAG','a0n1J00000hSN27QAG','a0n1J00000hSN2hQAG','a0n1J00000hSN32QAG','a0n1J00000hSN2oQAG','a0no000000dozWdAAI','a0no000000dpHVMAA2','a0n1J00000hSN3MQAW','a0n1J00000hSN3ZQAW','a0n1J00000hSN3QQAW','a0no000000dozYdAAI','a0n1J00000hSN2GQAW','a0n1J00000hSN29QAG','a0no000000Pi72OAAR','a0n1J00000hSN2OQAW','a0no0000008kweeAAA','a0no000000dozf9AAA','a0no000000dozZIAAY','a0no0000008lW5GAAU','a0n1J00000hILaOQAW','a0n1J00000hSN3JQAW','a0n1J00000hSN3aQAG','a0no000000dozYyAAI','a0n1J00000hILZkQAO','a0n1J00000hILZsQAO','a0no000000dozc4AAA','a0no0000008kwiEAAQ\""
      ]
     },
     "execution_count": 47,
     "metadata": {},
     "output_type": "execute_result"
    }
   ],
   "source": [
    "tag_parameter"
   ]
  },
  {
   "cell_type": "code",
   "execution_count": 66,
   "metadata": {},
   "outputs": [],
   "source": [
    "exp_result = sf.query(\"\"\"SELECT Id, Tag_Name__c, Tag_Type__c, \n",
    "                         Experience__c, Experience__r.Type__c, \n",
    "                         Experience__r.Name_Full__c, Experience__r.Date_Full__c  \n",
    "                         FROM Tag_Experience__c WHERE Tag_Item__r.Tag__r.Id IN ('%s')\n",
    "                         AND RecordTypeId = '012o0000000yXlE' \n",
    "                         AND Experience__c != NULL \n",
    "                         AND Experience__r.Contact__c = '0031J00001GUqKDQA1'\"\"\" \n",
    "                      % (tag_parameter,))"
   ]
  },
  {
   "cell_type": "code",
   "execution_count": 67,
   "metadata": {},
   "outputs": [],
   "source": [
    "query_map3 = {\n",
    "    \"record_object\": \"Tag_Experience__c\",\n",
    "    \"parent_object\": \"Experience__r\",\n",
    "    \"parent_fields\": [\"Type__c\", \"Name_Full__c\", \"Date_Full__c\"],\n",
    "    \"record_fields\": [\"Experience__c\", \"Id\", \"Tag_Name__c\", \"Tag_Type__c\"]\n",
    "}\n",
    "\n",
    "exp_records = flatten_right(exp_result, query_map3)"
   ]
  },
  {
   "cell_type": "code",
   "execution_count": 68,
   "metadata": {},
   "outputs": [
    {
     "data": {
      "text/html": [
       "<div>\n",
       "<style>\n",
       "    .dataframe thead tr:only-child th {\n",
       "        text-align: right;\n",
       "    }\n",
       "\n",
       "    .dataframe thead th {\n",
       "        text-align: left;\n",
       "    }\n",
       "\n",
       "    .dataframe tbody tr th {\n",
       "        vertical-align: top;\n",
       "    }\n",
       "</style>\n",
       "<table border=\"1\" class=\"dataframe\">\n",
       "  <thead>\n",
       "    <tr style=\"text-align: right;\">\n",
       "      <th></th>\n",
       "      <th>Date_Full__c</th>\n",
       "      <th>Experience__c</th>\n",
       "      <th>Id</th>\n",
       "      <th>Name_Full__c</th>\n",
       "      <th>Tag_Name__c</th>\n",
       "      <th>Tag_Type__c</th>\n",
       "      <th>Type__c</th>\n",
       "    </tr>\n",
       "  </thead>\n",
       "  <tbody>\n",
       "    <tr>\n",
       "      <th>0</th>\n",
       "      <td>August 2008 - December 2011</td>\n",
       "      <td>a281J000000doWwQAI</td>\n",
       "      <td>a441J000000ookbQAA</td>\n",
       "      <td>University of Virginia, Undergraduate</td>\n",
       "      <td>Colleagues</td>\n",
       "      <td>Audience</td>\n",
       "      <td>Degree</td>\n",
       "    </tr>\n",
       "    <tr>\n",
       "      <th>1</th>\n",
       "      <td>August 2008 - December 2011</td>\n",
       "      <td>a281J000000doWwQAI</td>\n",
       "      <td>a441J000000ooklQAA</td>\n",
       "      <td>University of Virginia, Undergraduate</td>\n",
       "      <td>Systems</td>\n",
       "      <td>Content</td>\n",
       "      <td>Degree</td>\n",
       "    </tr>\n",
       "    <tr>\n",
       "      <th>2</th>\n",
       "      <td>August 2008 - December 2011</td>\n",
       "      <td>a281J000000doWwQAI</td>\n",
       "      <td>a441J000000ookvQAA</td>\n",
       "      <td>University of Virginia, Undergraduate</td>\n",
       "      <td>Frameworks</td>\n",
       "      <td>Content</td>\n",
       "      <td>Degree</td>\n",
       "    </tr>\n",
       "    <tr>\n",
       "      <th>3</th>\n",
       "      <td>August 2008 - December 2011</td>\n",
       "      <td>a281J000000doWwQAI</td>\n",
       "      <td>a441J000000oolFQAQ</td>\n",
       "      <td>University of Virginia, Undergraduate</td>\n",
       "      <td>Poverty</td>\n",
       "      <td>Focus Area</td>\n",
       "      <td>Degree</td>\n",
       "    </tr>\n",
       "    <tr>\n",
       "      <th>4</th>\n",
       "      <td>August 2015 - May 2017</td>\n",
       "      <td>a281J000000doX6QAI</td>\n",
       "      <td>a441J000000Hx1ZQAS</td>\n",
       "      <td>Virginia Commonwealth University, Masters</td>\n",
       "      <td>Social Work</td>\n",
       "      <td>Responsibility</td>\n",
       "      <td>Degree</td>\n",
       "    </tr>\n",
       "  </tbody>\n",
       "</table>\n",
       "</div>"
      ],
      "text/plain": [
       "                  Date_Full__c       Experience__c                  Id  \\\n",
       "0  August 2008 - December 2011  a281J000000doWwQAI  a441J000000ookbQAA   \n",
       "1  August 2008 - December 2011  a281J000000doWwQAI  a441J000000ooklQAA   \n",
       "2  August 2008 - December 2011  a281J000000doWwQAI  a441J000000ookvQAA   \n",
       "3  August 2008 - December 2011  a281J000000doWwQAI  a441J000000oolFQAQ   \n",
       "4       August 2015 - May 2017  a281J000000doX6QAI  a441J000000Hx1ZQAS   \n",
       "\n",
       "                                Name_Full__c  Tag_Name__c     Tag_Type__c  \\\n",
       "0      University of Virginia, Undergraduate   Colleagues        Audience   \n",
       "1      University of Virginia, Undergraduate      Systems         Content   \n",
       "2      University of Virginia, Undergraduate   Frameworks         Content   \n",
       "3      University of Virginia, Undergraduate      Poverty      Focus Area   \n",
       "4  Virginia Commonwealth University, Masters  Social Work  Responsibility   \n",
       "\n",
       "  Type__c  \n",
       "0  Degree  \n",
       "1  Degree  \n",
       "2  Degree  \n",
       "3  Degree  \n",
       "4  Degree  "
      ]
     },
     "execution_count": 68,
     "metadata": {},
     "output_type": "execute_result"
    }
   ],
   "source": [
    "df_exp = pd.DataFrame(exp_records)\n",
    "df_exp.head()"
   ]
  },
  {
   "cell_type": "code",
   "execution_count": null,
   "metadata": {
    "collapsed": true
   },
   "outputs": [],
   "source": []
  }
 ],
 "metadata": {
  "kernelspec": {
   "display_name": "Python 3",
   "language": "python",
   "name": "python3"
  },
  "language_info": {
   "codemirror_mode": {
    "name": "ipython",
    "version": 3
   },
   "file_extension": ".py",
   "mimetype": "text/x-python",
   "name": "python",
   "nbconvert_exporter": "python",
   "pygments_lexer": "ipython3",
   "version": "3.6.3"
  }
 },
 "nbformat": 4,
 "nbformat_minor": 2
}
